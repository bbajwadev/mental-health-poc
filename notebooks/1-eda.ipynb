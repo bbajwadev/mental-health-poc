{
 "cells": [
  {
   "metadata": {},
   "cell_type": "markdown",
   "source": [
    "# # EDA: Exploratory Data Analysis\n",
    "# This notebook explores the `train.csv` dataset of patient–counselor exchanges to understand its structure and key features."
   ],
   "id": "40a637eb733f5cae"
  },
  {
   "metadata": {},
   "cell_type": "markdown",
   "source": "## 1. Imports & Load Data",
   "id": "766ee77e12089da3"
  },
  {
   "metadata": {},
   "cell_type": "markdown",
   "source": "",
   "id": "a4ccc31c92feda1a"
  },
  {
   "metadata": {
    "ExecuteTime": {
     "end_time": "2025-07-16T23:42:48.698215Z",
     "start_time": "2025-07-16T23:42:48.286779Z"
    }
   },
   "cell_type": "code",
   "source": [
    "import pandas as pd\n",
    "df = pd.read_csv(\"../data/raw/train.csv\")\n",
    "print(\"Shape:\", df.shape)\n",
    "# Display first 3 rows\n",
    "df.head(3)"
   ],
   "id": "8eb2895fc841c7fe",
   "outputs": [
    {
     "name": "stdout",
     "output_type": "stream",
     "text": [
      "Shape: (3512, 2)\n"
     ]
    },
    {
     "data": {
      "text/plain": [
       "                                             Context  \\\n",
       "0  I'm going through some things with my feelings...   \n",
       "1  I'm going through some things with my feelings...   \n",
       "2  I'm going through some things with my feelings...   \n",
       "\n",
       "                                            Response  \n",
       "0  If everyone thinks you're worthless, then mayb...  \n",
       "1  Hello, and thank you for your question and see...  \n",
       "2  First thing I'd suggest is getting the sleep y...  "
      ],
      "text/html": [
       "<div>\n",
       "<style scoped>\n",
       "    .dataframe tbody tr th:only-of-type {\n",
       "        vertical-align: middle;\n",
       "    }\n",
       "\n",
       "    .dataframe tbody tr th {\n",
       "        vertical-align: top;\n",
       "    }\n",
       "\n",
       "    .dataframe thead th {\n",
       "        text-align: right;\n",
       "    }\n",
       "</style>\n",
       "<table border=\"1\" class=\"dataframe\">\n",
       "  <thead>\n",
       "    <tr style=\"text-align: right;\">\n",
       "      <th></th>\n",
       "      <th>Context</th>\n",
       "      <th>Response</th>\n",
       "    </tr>\n",
       "  </thead>\n",
       "  <tbody>\n",
       "    <tr>\n",
       "      <th>0</th>\n",
       "      <td>I'm going through some things with my feelings...</td>\n",
       "      <td>If everyone thinks you're worthless, then mayb...</td>\n",
       "    </tr>\n",
       "    <tr>\n",
       "      <th>1</th>\n",
       "      <td>I'm going through some things with my feelings...</td>\n",
       "      <td>Hello, and thank you for your question and see...</td>\n",
       "    </tr>\n",
       "    <tr>\n",
       "      <th>2</th>\n",
       "      <td>I'm going through some things with my feelings...</td>\n",
       "      <td>First thing I'd suggest is getting the sleep y...</td>\n",
       "    </tr>\n",
       "  </tbody>\n",
       "</table>\n",
       "</div>"
      ]
     },
     "execution_count": 2,
     "metadata": {},
     "output_type": "execute_result"
    }
   ],
   "execution_count": 2
  },
  {
   "metadata": {},
   "cell_type": "markdown",
   "source": "## 2. Preview & Basic Stats",
   "id": "b7881af24a91e41d"
  },
  {
   "metadata": {
    "ExecuteTime": {
     "end_time": "2025-07-16T23:42:55.236092Z",
     "start_time": "2025-07-16T23:42:55.219808Z"
    }
   },
   "cell_type": "code",
   "source": [
    "# Column names and missing values\n",
    "print(\"Columns:\", df.columns.tolist())\n",
    "print(\"Missing per column:\\n\", df.isna().sum())"
   ],
   "id": "a2d097ce3470993",
   "outputs": [
    {
     "name": "stdout",
     "output_type": "stream",
     "text": [
      "Columns: ['Context', 'Response']\n",
      "Missing per column:\n",
      " Context     0\n",
      "Response    4\n",
      "dtype: int64\n"
     ]
    }
   ],
   "execution_count": 3
  },
  {
   "metadata": {},
   "cell_type": "markdown",
   "source": "## 3. Length Distributions",
   "id": "b8afd503da199648"
  },
  {
   "metadata": {
    "ExecuteTime": {
     "end_time": "2025-07-16T23:43:01.024605Z",
     "start_time": "2025-07-16T23:43:00.971435Z"
    }
   },
   "cell_type": "code",
   "source": [
    "# Compute token counts\n",
    "df[\"ctx_len\"] = df.Context.str.split().str.len()\n",
    "df[\"resp_len\"] = df.Response.str.split().str.len()"
   ],
   "id": "168c279d8501de50",
   "outputs": [],
   "execution_count": 4
  },
  {
   "metadata": {
    "ExecuteTime": {
     "end_time": "2025-07-16T23:43:04.907442Z",
     "start_time": "2025-07-16T23:43:04.855771Z"
    }
   },
   "cell_type": "code",
   "source": [
    "# Descriptive stats\n",
    "df[[\"ctx_len\",\"resp_len\"]].describe()"
   ],
   "id": "a4a1213f7798ad28",
   "outputs": [
    {
     "data": {
      "text/plain": [
       "           ctx_len     resp_len\n",
       "count  3512.000000  3508.000000\n",
       "mean     55.180809   177.203820\n",
       "std      48.275077   120.665564\n",
       "min       5.000000     1.000000\n",
       "25%      28.000000    94.000000\n",
       "50%      46.000000   145.000000\n",
       "75%      68.000000   221.000000\n",
       "max     526.000000   939.000000"
      ],
      "text/html": [
       "<div>\n",
       "<style scoped>\n",
       "    .dataframe tbody tr th:only-of-type {\n",
       "        vertical-align: middle;\n",
       "    }\n",
       "\n",
       "    .dataframe tbody tr th {\n",
       "        vertical-align: top;\n",
       "    }\n",
       "\n",
       "    .dataframe thead th {\n",
       "        text-align: right;\n",
       "    }\n",
       "</style>\n",
       "<table border=\"1\" class=\"dataframe\">\n",
       "  <thead>\n",
       "    <tr style=\"text-align: right;\">\n",
       "      <th></th>\n",
       "      <th>ctx_len</th>\n",
       "      <th>resp_len</th>\n",
       "    </tr>\n",
       "  </thead>\n",
       "  <tbody>\n",
       "    <tr>\n",
       "      <th>count</th>\n",
       "      <td>3512.000000</td>\n",
       "      <td>3508.000000</td>\n",
       "    </tr>\n",
       "    <tr>\n",
       "      <th>mean</th>\n",
       "      <td>55.180809</td>\n",
       "      <td>177.203820</td>\n",
       "    </tr>\n",
       "    <tr>\n",
       "      <th>std</th>\n",
       "      <td>48.275077</td>\n",
       "      <td>120.665564</td>\n",
       "    </tr>\n",
       "    <tr>\n",
       "      <th>min</th>\n",
       "      <td>5.000000</td>\n",
       "      <td>1.000000</td>\n",
       "    </tr>\n",
       "    <tr>\n",
       "      <th>25%</th>\n",
       "      <td>28.000000</td>\n",
       "      <td>94.000000</td>\n",
       "    </tr>\n",
       "    <tr>\n",
       "      <th>50%</th>\n",
       "      <td>46.000000</td>\n",
       "      <td>145.000000</td>\n",
       "    </tr>\n",
       "    <tr>\n",
       "      <th>75%</th>\n",
       "      <td>68.000000</td>\n",
       "      <td>221.000000</td>\n",
       "    </tr>\n",
       "    <tr>\n",
       "      <th>max</th>\n",
       "      <td>526.000000</td>\n",
       "      <td>939.000000</td>\n",
       "    </tr>\n",
       "  </tbody>\n",
       "</table>\n",
       "</div>"
      ]
     },
     "execution_count": 5,
     "metadata": {},
     "output_type": "execute_result"
    }
   ],
   "execution_count": 5
  },
  {
   "metadata": {
    "ExecuteTime": {
     "end_time": "2025-07-16T23:43:07.610901Z",
     "start_time": "2025-07-16T23:43:07.107685Z"
    }
   },
   "cell_type": "code",
   "source": [
    "import matplotlib.pyplot as plt\n",
    "\n",
    "plt.figure()\n",
    "df.ctx_len.hist(bins=30)\n",
    "plt.title(\"Context Length Distribution\")\n",
    "plt.xlabel(\"Tokens\")\n",
    "plt.ylabel(\"Count\")\n",
    "\n",
    "plt.figure()\n",
    "df.resp_len.hist(bins=30)\n",
    "plt.title(\"Response Length Distribution\")\n",
    "plt.xlabel(\"Tokens\")\n",
    "plt.ylabel(\"Count\")\n",
    "\n",
    "plt.show()\n"
   ],
   "id": "5f196770b7d5a9c9",
   "outputs": [
    {
     "data": {
      "text/plain": [
       "<Figure size 640x480 with 1 Axes>"
      ],
      "image/png": "[encoded data removed]"
     },
     "metadata": {},
     "output_type": "display_data"
    },
    {
     "data": {
      "text/plain": [
       "<Figure size 640x480 with 1 Axes>"
      ],
      "image/png": "[encoded data removed]"
     },
     "metadata": {},
     "output_type": "display_data"
    }
   ],
   "execution_count": 6
  },
  {
   "metadata": {},
   "cell_type": "markdown",
   "source": "## 4. Top Keywords\n",
   "id": "7ddedae36854b013"
  },
  {
   "metadata": {
    "ExecuteTime": {
     "end_time": "2025-07-16T23:44:16.002847Z",
     "start_time": "2025-07-16T23:44:15.890809Z"
    }
   },
   "cell_type": "code",
   "source": [
    "from collections import Counter\n",
    "import itertools\n",
    "\n",
    "# Context words (drop any nulls just in case)\n",
    "ctx_tokens = df.Context.dropna().str.lower().str.split()\n",
    "ctx_words = Counter(itertools.chain.from_iterable(ctx_tokens))\n",
    "print(\"Top 20 in Context:\", ctx_words.most_common(20))\n",
    "\n",
    "# Response words (replace nulls with empty strings)\n",
    "resp_tokens = df.Response.fillna(\"\").str.lower().str.split()\n",
    "resp_words = Counter(itertools.chain.from_iterable(resp_tokens))\n",
    "print(\"Top 20 in Response:\", resp_words.most_common(20))\n"
   ],
   "id": "d577d1ad65933b47",
   "outputs": [
    {
     "name": "stdout",
     "output_type": "stream",
     "text": [
      "Top 20 in Context: [('i', 13065), ('and', 6714), ('to', 6356), ('my', 4677), ('a', 4529), ('the', 3057), ('have', 2724), ('he', 2648), ('of', 2249), ('in', 2145), ('me', 2140), ('with', 2077), ('but', 2069), ('is', 2049), ('that', 1826), ('for', 1697), (\"i'm\", 1603), ('it', 1587), ('she', 1430), ('do', 1270)]\n",
      "Top 20 in Response: [('to', 25264), ('you', 24547), ('the', 16729), ('and', 16073), ('a', 14253), ('your', 12388), ('is', 11507), ('that', 11227), ('of', 11134), ('in', 8439), ('are', 7604), ('with', 6672), ('be', 6502), ('for', 5934), ('it', 5914), ('can', 5234), ('or', 4770), ('this', 4685), ('i', 4609), ('if', 4529)]\n"
     ]
    }
   ],
   "execution_count": 8
  },
  {
   "metadata": {},
   "cell_type": "markdown",
   "source": "## 5. Sample Dialogues",
   "id": "7dd0f6c5f9fcaa10"
  },
  {
   "metadata": {
    "ExecuteTime": {
     "end_time": "2025-07-16T23:44:19.046761Z",
     "start_time": "2025-07-16T23:44:19.043231Z"
    }
   },
   "cell_type": "code",
   "source": [
    "for idx in [0, 10, 50]:\n",
    "    print(f\"--- Example {idx} ---\")\n",
    "    print(\"Patient:\", df.Context[idx])\n",
    "    print(\"Counselor:\", df.Response[idx], \"\\n\")"
   ],
   "id": "516a7398800f95fc",
   "outputs": [
    {
     "name": "stdout",
     "output_type": "stream",
     "text": [
      "--- Example 0 ---\n",
      "Patient: I'm going through some things with my feelings and myself. I barely sleep and I do nothing but think about how I'm worthless and how I shouldn't be here.\n",
      "   I've never tried or contemplated suicide. I've always wanted to fix my issues, but I never get around to it.\n",
      "   How can I change my feeling of being worthless to everyone?\n",
      "Counselor: If everyone thinks you're worthless, then maybe you need to find new people to hang out with.Seriously, the social context in which a person lives is a big influence in self-esteem.Otherwise, you can go round and round trying to understand why you're not worthless, then go back to the same crowd and be knocked down again.There are many inspirational messages you can find in social media.  Maybe read some of the ones which state that no person is worthless, and that everyone has a good purpose to their life.Also, since our culture is so saturated with the belief that if someone doesn't feel good about themselves that this is somehow terrible.Bad feelings are part of living.  They are the motivation to remove ourselves from situations and relationships which do us more harm than good.Bad feelings do feel terrible.   Your feeling of worthlessness may be good in the sense of motivating you to find out that you are much better than your feelings today. \n",
      "\n",
      "--- Example 10 ---\n",
      "Patient: I'm going through some things with my feelings and myself. I barely sleep and I do nothing but think about how I'm worthless and how I shouldn't be here.\n",
      "   I've never tried or contemplated suicide. I've always wanted to fix my issues, but I never get around to it.\n",
      "   How can I change my feeling of being worthless to everyone?\n",
      "Counselor: People who feel worthless were, in one way or another, were told that they are worthless. This is the lie that they are living with. The work of therapy is to help people see their true good selves. This gives them self esteem. \n",
      "\n",
      "--- Example 50 ---\n",
      "Patient: I have so many issues to address. I have a history of sexual abuse, I’m a breast cancer survivor and I am a lifetime insomniac.    I have a long history of depression and I’m beginning to have anxiety. I have low self esteem but I’ve been happily married for almost 35 years.\n",
      "   I’ve never had counseling about any of this. Do I have too many issues to address in counseling?\n",
      "Counselor: There are never \"too many issues\" to be addressed in therapy.  Most people come in with multiple issues they want to address.  The wonderful thing about therapy, is that often, as one or more significant issues begin to change and improve-   the lead naturally without much effort to improvements in the other areas.  (For example, as you begin to address trauma and betrayal from you past, you may find that the insomnia improves). Your therapist, with you input and direction, can help you to prioritize which problem areas to target first. \n",
      "\n"
     ]
    }
   ],
   "execution_count": 9
  },
  {
   "metadata": {},
   "cell_type": "markdown",
   "source": "## 6. Thematic Counts\n",
   "id": "eeb258e959d011a9"
  },
  {
   "metadata": {
    "ExecuteTime": {
     "end_time": "2025-07-16T23:44:21.906765Z",
     "start_time": "2025-07-16T23:44:21.877568Z"
    }
   },
   "cell_type": "code",
   "source": [
    "# Count how many contexts mention key terms\n",
    "for term in [\"anxiety\", \"depress\", \"stress\", \"trauma\"]:\n",
    "    cnt = df.Context.str.contains(term, case=False).sum()\n",
    "    print(f\"{term}: {cnt} occurrences\")\n"
   ],
   "id": "e1a14a03e12522b6",
   "outputs": [
    {
     "name": "stdout",
     "output_type": "stream",
     "text": [
      "anxiety: 353 occurrences\n",
      "depress: 431 occurrences\n",
      "stress: 172 occurrences\n",
      "trauma: 34 occurrences\n"
     ]
    }
   ],
   "execution_count": 10
  },
  {
   "metadata": {},
   "cell_type": "markdown",
   "source": "## 7. Save a Processed Sample (Optional)\n",
   "id": "3286c8e1c1787d77"
  },
  {
   "metadata": {
    "ExecuteTime": {
     "end_time": "2025-07-16T23:44:24.375980Z",
     "start_time": "2025-07-16T23:44:24.354751Z"
    }
   },
   "cell_type": "code",
   "source": [
    "# Save a random subset for frontend testing\n",
    "df.sample(100)[[\"Context\",\"Response\"]]  \\\n",
    "  .to_csv(\"../data/processed/sample_100.csv\", index=False)\n"
   ],
   "id": "8d0cb4dc3e0b2a33",
   "outputs": [],
   "execution_count": 11
  }
 ],
 "metadata": {},
 "nbformat": 4,
 "nbformat_minor": 5
}
